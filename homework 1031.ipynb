{
 "cells": [
  {
   "cell_type": "code",
   "execution_count": 66,
   "id": "d6845c31",
   "metadata": {},
   "outputs": [],
   "source": [
    "import requests\n",
    "from bs4 import BeautifulSoup\n",
    "import pandas as pd\n",
    "\n",
    "def get_soup(url):\n",
    "    try:\n",
    "        resp = requests.get(url)\n",
    "        resp.encoding = \"utf-8\"\n",
    "        if resp.status_code == 200:\n",
    "            soup = BeautifulSoup(resp.text, \"lxml\")\n",
    "            return soup\n",
    "        else:\n",
    "            print(\"網頁取得失敗\", resp.status_code)\n",
    "    except Exception as e:\n",
    "        print(\"網址錯誤\", e)"
   ]
  },
  {
   "cell_type": "code",
   "execution_count": 48,
   "id": "b7776359",
   "metadata": {},
   "outputs": [],
   "source": [
    "url = (\"https://tw.sports.yahoo.com/nba/\")"
   ]
  },
  {
   "cell_type": "code",
   "execution_count": 52,
   "id": "b9d32791",
   "metadata": {},
   "outputs": [],
   "source": [
    "cfs = soup.find(id = \"Col1-1-SportsStream\").find_all(\"div\", class_ = \"Cf\")"
   ]
  },
  {
   "cell_type": "code",
   "execution_count": 57,
   "id": "0f966137",
   "metadata": {},
   "outputs": [],
   "source": [
    "cf = cfs[0]"
   ]
  },
  {
   "cell_type": "code",
   "execution_count": 58,
   "id": "8aac397b",
   "metadata": {},
   "outputs": [
    {
     "data": {
      "text/plain": [
       "'【NBA美國職籃】2023-24賽季開打 例行賽賽程、時間、比分、轉播懶人包'"
      ]
     },
     "execution_count": 58,
     "metadata": {},
     "output_type": "execute_result"
    }
   ],
   "source": [
    "#title\n",
    "cf.find(\"a\").text"
   ]
  },
  {
   "cell_type": "code",
   "execution_count": 59,
   "id": "06cc6323",
   "metadata": {},
   "outputs": [
    {
     "data": {
      "text/plain": [
       "'Yahoo奇摩運動'"
      ]
     },
     "execution_count": 59,
     "metadata": {},
     "output_type": "execute_result"
    }
   ],
   "source": [
    "#source\n",
    "source = cf.find(class_ = \"C(#959595) Fz(11px) D(ib) Mb(6px)\")"
   ]
  },
  {
   "cell_type": "code",
   "execution_count": 71,
   "id": "e7287f18",
   "metadata": {},
   "outputs": [
    {
     "data": {
      "text/plain": [
       "<p class=\"Fz(14px) Lh(19px) Fz(13px)--sm1024 Lh(17px)--sm1024 LineClamp(2,38px) LineClamp(2,34px)--sm1024 M(0)\">NBA獨行俠一哥東契奇（Luka Doncic）開季就開無雙，今（31日）作客灰熊，本季第2度攻下30分大三元，率隊以125比110奪開季4連勝，也送灰熊開季4連敗。</p>"
      ]
     },
     "execution_count": 71,
     "metadata": {},
     "output_type": "execute_result"
    }
   ],
   "source": [
    "cf.find(class_ = \"Fz(14px) Lh(19px) Fz(13px)--sm1024 Lh(17px)--sm1024 LineClamp(2,38px) LineClamp(2,34px)--sm1024 M(0)\")"
   ]
  },
  {
   "cell_type": "code",
   "execution_count": 62,
   "id": "f7bda246",
   "metadata": {},
   "outputs": [
    {
     "name": "stdout",
     "output_type": "stream",
     "text": [
      "https://tw.sports.yahoo.com/nba/https://tw.sports.yahoo.com/news/nba%E7%BE%8E%E5%9C%8B%E8%81%B7%E7%B1%83-2023-24-%E8%B3%BD%E5%AD%A3%E9%96%8B%E6%89%93-%E4%BE%8B%E8%A1%8C%E8%B3%BD%E8%B3%BD%E7%A8%8B-%E6%99%82%E9%96%93-%E6%AF%94%E5%88%86-%E8%BD%89%E6%92%AD%E6%87%B6%E4%BA%BA%E5%8C%85-062855994.html\n"
     ]
    }
   ],
   "source": [
    "print(\"https://tw.sports.yahoo.com/nba/\"+cf.find('a').get('href'))"
   ]
  },
  {
   "cell_type": "code",
   "execution_count": 63,
   "id": "2c733d61",
   "metadata": {
    "scrolled": true
   },
   "outputs": [
    {
     "name": "stdout",
     "output_type": "stream",
     "text": [
      "https://s.yimg.com/uu/api/res/1.2/trB5V5DUzxOUB.8FRmjq8A--~B/Zmk9c3RyaW07aD0xMjM7cT04MDt3PTIyMDthcHBpZD15dGFjaHlvbg--/https://s.yimg.com/os/creatr-uploaded-images/2023-10/6cd20ed0-77ac-11ee-b8f7-1560d340f61f.cf.jpg\n"
     ]
    }
   ],
   "source": [
    "pic=cf.find('img').get('src')\n",
    "print(pic)"
   ]
  },
  {
   "cell_type": "code",
   "execution_count": 72,
   "id": "0b70580f",
   "metadata": {},
   "outputs": [
    {
     "name": "stdout",
     "output_type": "stream",
     "text": [
      "【NBA美國職籃】2023-24賽季開打 例行賽賽程、時間、比分、轉播懶人包 <div class=\"C(#959595) Fz(11px) D(ib) Mb(6px)\">Yahoo奇摩運動</div> <p class=\"Fz(14px) Lh(19px) Fz(13px)--sm1024 Lh(17px)--sm1024 LineClamp(2,38px) LineClamp(2,34px)--sm1024 M(0)\">2023–24 NBA賽季為NBA第78個賽季，本季例行賽於台灣時間2023年10月25日開打，將一路戰至2024年4月15日。</p> https://s.yimg.com/uu/api/res/1.2/trB5V5DUzxOUB.8FRmjq8A--~B/Zmk9c3RyaW07aD0xMjM7cT04MDt3PTIyMDthcHBpZD15dGFjaHlvbg--/https://s.yimg.com/os/creatr-uploaded-images/2023-10/6cd20ed0-77ac-11ee-b8f7-1560d340f61f.cf.jpg\n",
      "落難狀元再起　他找回自我成魔術當家指揮官 <div class=\"C(#959595) Fz(11px) D(ib) Mb(6px)\">動誌</div> <p class=\"Fz(14px) Lh(19px) Fz(13px)--sm1024 Lh(17px)--sm1024 LineClamp(2,38px) LineClamp(2,34px)--sm1024 M(0)\">時間倒轉回2017年NBA選秀，當時被稱做超級大物年，如今看來的確實力超凡，前十順位中包括賽爾提克隊泰坦(Jayson Tatum)、國王隊福克斯(Deanron Fox)，甚至是</p> https://s.yimg.com/uu/api/res/1.2/ipC9L60DTeGxS1KcG3.ZCQ--~B/Zmk9c3RyaW07aD0xMjM7cT04MDt3PTIyMDthcHBpZD15dGFjaHlvbg--/https://media.zenfs.com/ko/__250/d808dc90f66e3a77c0436a3a89e24fa7.cf.jpg\n",
      "影/獨行俠少了他怎麼辦！東契奇再開無雙　第2度30分大三元打殘灰熊 <div class=\"C(#959595) Fz(11px) D(ib) Mb(6px)\">中天新聞網</div> <p class=\"Fz(14px) Lh(19px) Fz(13px)--sm1024 Lh(17px)--sm1024 LineClamp(2,38px) LineClamp(2,34px)--sm1024 M(0)\">NBA獨行俠一哥東契奇（Luka Doncic）開季就開無雙，今（31日）作客灰熊，本季第2度攻下30分大三元，率隊以125比110奪開季4連勝，也送灰熊開季4連敗。</p> https://s.yimg.com/uu/api/res/1.2/_ETqkcc8oB8waAEDLMeMEA--~B/Zmk9c3RyaW07aD0xMjM7cT04MDt3PTIyMDthcHBpZD15dGFjaHlvbg--/https://media.zenfs.com/en/gotv_ctitv_com_tw_678/c0508c31fb6b1acb3ace286746ec7573.cf.jpg\n"
     ]
    }
   ],
   "source": [
    "datas=[]\n",
    "for cf in cfs:\n",
    "    try:\n",
    "        title = cf.find(\"a\").text.strip()\n",
    "        source = cf.find(class_ = \"C(#959595) Fz(11px) D(ib) Mb(6px)\")\n",
    "        content = cf.find(class_ = \"Fz(14px) Lh(19px) Fz(13px)--sm1024 Lh(17px)--sm1024 LineClamp(2,38px) LineClamp(2,34px)--sm1024 M(0)\")\n",
    "        img_url = cf.find('img').get('src')\n",
    "        print(title, source, content, img_url)\n",
    "        datas.append([title,source,content,img_url])\n",
    "    except Exception as e:\n",
    "        print(e)\n",
    "        input()"
   ]
  },
  {
   "cell_type": "code",
   "execution_count": 73,
   "id": "139880c6",
   "metadata": {},
   "outputs": [],
   "source": [
    "df = pd.DataFrame(datas,columns = [\"標題\", \"來源\", \"摘要\", \"圖片連結\"])"
   ]
  },
  {
   "cell_type": "code",
   "execution_count": 74,
   "id": "4551f944",
   "metadata": {},
   "outputs": [
    {
     "data": {
      "text/html": [
       "<div>\n",
       "<style scoped>\n",
       "    .dataframe tbody tr th:only-of-type {\n",
       "        vertical-align: middle;\n",
       "    }\n",
       "\n",
       "    .dataframe tbody tr th {\n",
       "        vertical-align: top;\n",
       "    }\n",
       "\n",
       "    .dataframe thead th {\n",
       "        text-align: right;\n",
       "    }\n",
       "</style>\n",
       "<table border=\"1\" class=\"dataframe\">\n",
       "  <thead>\n",
       "    <tr style=\"text-align: right;\">\n",
       "      <th></th>\n",
       "      <th>標題</th>\n",
       "      <th>來源</th>\n",
       "      <th>摘要</th>\n",
       "      <th>圖片連結</th>\n",
       "    </tr>\n",
       "  </thead>\n",
       "  <tbody>\n",
       "    <tr>\n",
       "      <th>0</th>\n",
       "      <td>【NBA美國職籃】2023-24賽季開打 例行賽賽程、時間、比分、轉播懶人包</td>\n",
       "      <td>[Yahoo奇摩運動]</td>\n",
       "      <td>[2023–24 NBA賽季為NBA第78個賽季，本季例行賽於台灣時間2023年10月25日...</td>\n",
       "      <td>https://s.yimg.com/uu/api/res/1.2/trB5V5DUzxOU...</td>\n",
       "    </tr>\n",
       "    <tr>\n",
       "      <th>1</th>\n",
       "      <td>落難狀元再起　他找回自我成魔術當家指揮官</td>\n",
       "      <td>[動誌]</td>\n",
       "      <td>[時間倒轉回2017年NBA選秀，當時被稱做超級大物年，如今看來的確實力超凡，前十順位中包括...</td>\n",
       "      <td>https://s.yimg.com/uu/api/res/1.2/ipC9L60DTeGx...</td>\n",
       "    </tr>\n",
       "    <tr>\n",
       "      <th>2</th>\n",
       "      <td>影/獨行俠少了他怎麼辦！東契奇再開無雙　第2度30分大三元打殘灰熊</td>\n",
       "      <td>[中天新聞網]</td>\n",
       "      <td>[NBA獨行俠一哥東契奇（Luka Doncic）開季就開無雙，今（31日）作客灰熊，本季第...</td>\n",
       "      <td>https://s.yimg.com/uu/api/res/1.2/_ETqkcc8oB8w...</td>\n",
       "    </tr>\n",
       "  </tbody>\n",
       "</table>\n",
       "</div>"
      ],
      "text/plain": [
       "                                       標題           來源  \\\n",
       "0  【NBA美國職籃】2023-24賽季開打 例行賽賽程、時間、比分、轉播懶人包  [Yahoo奇摩運動]   \n",
       "1                    落難狀元再起　他找回自我成魔術當家指揮官         [動誌]   \n",
       "2       影/獨行俠少了他怎麼辦！東契奇再開無雙　第2度30分大三元打殘灰熊      [中天新聞網]   \n",
       "\n",
       "                                                  摘要  \\\n",
       "0  [2023–24 NBA賽季為NBA第78個賽季，本季例行賽於台灣時間2023年10月25日...   \n",
       "1  [時間倒轉回2017年NBA選秀，當時被稱做超級大物年，如今看來的確實力超凡，前十順位中包括...   \n",
       "2  [NBA獨行俠一哥東契奇（Luka Doncic）開季就開無雙，今（31日）作客灰熊，本季第...   \n",
       "\n",
       "                                                圖片連結  \n",
       "0  https://s.yimg.com/uu/api/res/1.2/trB5V5DUzxOU...  \n",
       "1  https://s.yimg.com/uu/api/res/1.2/ipC9L60DTeGx...  \n",
       "2  https://s.yimg.com/uu/api/res/1.2/_ETqkcc8oB8w...  "
      ]
     },
     "execution_count": 74,
     "metadata": {},
     "output_type": "execute_result"
    }
   ],
   "source": [
    "df"
   ]
  }
 ],
 "metadata": {
  "kernelspec": {
   "display_name": "Python 3 (ipykernel)",
   "language": "python",
   "name": "python3"
  },
  "language_info": {
   "codemirror_mode": {
    "name": "ipython",
    "version": 3
   },
   "file_extension": ".py",
   "mimetype": "text/x-python",
   "name": "python",
   "nbconvert_exporter": "python",
   "pygments_lexer": "ipython3",
   "version": "3.11.4"
  }
 },
 "nbformat": 4,
 "nbformat_minor": 5
}
