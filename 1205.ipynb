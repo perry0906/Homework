{
 "cells": [
  {
   "cell_type": "code",
   "execution_count": 400,
   "id": "dfb7ad06",
   "metadata": {},
   "outputs": [],
   "source": [
    "import requests\n",
    "from bs4 import BeautifulSoup\n",
    "import pandas as pd\n",
    "import os\n",
    "import time\n",
    "from selenium import webdriver\n",
    "from selenium.webdriver.chrome.service import Service\n",
    "from selenium.webdriver.common.by import By\n",
    "\n",
    "path = r'/Users/pei-yuan/Desktop/chromedriver/chromedriver'\n",
    "service = Service(executable_path = path)\n",
    "\n",
    "chrome = webdriver.Chrome(service = service)\n",
    "chrome.get(\"https://mbasic.facebook.com/?stype=lo&deoia=1&jlou=AfcTbyUK35enu7g2Fq93Ufqr3Z8EHhFHyMIPXfMgKKamuYxLdPBBacyb3S3IJjwD81f8djZhxRO6JAywN2ajLTgne1z9LH2_2hxSww4VnMIQTA&smuh=50366&lh=Ac8vxkrPdrotYr1K71E&refid=7&ref_component=mbasic_footer&_rdr\")\n",
    "\n",
    "def make_dirs(path):\n",
    "    try:\n",
    "        if not os.path.exists(path):\n",
    "            os.makedirs(path)\n",
    "            print(f'{path}建立成功.')\n",
    "        else:\n",
    "            print(f'{path}已存在.')\n",
    "    except Exception as e:\n",
    "        print('建立floder失敗.', e)\n",
    "\n",
    "def get_soup(url, post_data=None):\n",
    "    try:\n",
    "        if post_data is not None:\n",
    "            resp = requests.post(url, post_data, headers={\n",
    "                'User-Agent': 'Mozilla/5.0 (Macintosh; Intel Mac OS X 11_2_3) AppleWebKit/605.1.15 (KHTML, like Gecko) Version/12.2'})\n",
    "        else:\n",
    "            resp = requests.get(url, headers={\n",
    "                'User-Agent': 'Mozilla/5.0 (Macintosh; Intel Mac OS X 11_2_3) AppleWebKit/605.1.15 (KHTML, like Gecko) Version/12.2'})\n",
    "        resp.encoding = 'utf-8'\n",
    "        if resp.status_code == 200:\n",
    "            soup = BeautifulSoup(resp.text, 'lxml')\n",
    "            return soup\n",
    "        else:\n",
    "            print('網頁取得失敗', resp.status_code)\n",
    "    except Exception as e:\n",
    "        print('網址錯誤', e)\n",
    "\n",
    "def save_pic(url, filename='temp.jpg'):\n",
    "    try:\n",
    "        resp = requests.get(url, headers={\n",
    "            'User-Agent': 'Mozilla/5.0 (Macintosh; Intel Mac OS X 11_2_3) AppleWebKit/605.1.15 (KHTML, like Gecko) Version/12.2'})\n",
    "        if resp.status_code == 200:\n",
    "            with open(filename, 'wb') as f:\n",
    "                f.write(resp.content)\n",
    "                print(f'{filename}儲存完畢')\n",
    "    except Exception as e:\n",
    "        print('儲存失敗', resp.status_code, e)"
   ]
  },
  {
   "cell_type": "code",
   "execution_count": 447,
   "id": "9a8d7f06",
   "metadata": {
    "scrolled": true
   },
   "outputs": [
    {
     "ename": "NoSuchElementException",
     "evalue": "Message: no such element: Unable to locate element: {\"method\":\"xpath\",\"selector\":\"/html/body/div/div/div[2]/div/table/tbody/tr/td/div[2]/div/div[2]/form/ul/li[1]/input\"}\n  (Session info: chrome=119.0.6045.199); For documentation on this error, please visit: https://www.selenium.dev/documentation/webdriver/troubleshooting/errors#no-such-element-exception\nStacktrace:\n0   chromedriver                        0x0000000104a9e004 chromedriver + 4169732\n1   chromedriver                        0x0000000104a95ff8 chromedriver + 4136952\n2   chromedriver                        0x00000001046eb500 chromedriver + 292096\n3   chromedriver                        0x00000001047307a0 chromedriver + 575392\n4   chromedriver                        0x000000010476b818 chromedriver + 817176\n5   chromedriver                        0x00000001047245e8 chromedriver + 525800\n6   chromedriver                        0x00000001047254b8 chromedriver + 529592\n7   chromedriver                        0x0000000104a64334 chromedriver + 3932980\n8   chromedriver                        0x0000000104a68970 chromedriver + 3950960\n9   chromedriver                        0x0000000104a4c774 chromedriver + 3835764\n10  chromedriver                        0x0000000104a69478 chromedriver + 3953784\n11  chromedriver                        0x0000000104a3eab4 chromedriver + 3779252\n12  chromedriver                        0x0000000104a85914 chromedriver + 4069652\n13  chromedriver                        0x0000000104a85a90 chromedriver + 4070032\n14  chromedriver                        0x0000000104a95c70 chromedriver + 4136048\n15  libsystem_pthread.dylib             0x0000000192e0106c _pthread_start + 148\n16  libsystem_pthread.dylib             0x0000000192dfbe2c thread_start + 8\n",
     "output_type": "error",
     "traceback": [
      "\u001b[0;31m---------------------------------------------------------------------------\u001b[0m",
      "\u001b[0;31mNoSuchElementException\u001b[0m                    Traceback (most recent call last)",
      "Cell \u001b[0;32mIn[447], line 2\u001b[0m\n\u001b[1;32m      1\u001b[0m account_xpath \u001b[38;5;241m=\u001b[39m \u001b[38;5;124m\"\u001b[39m\u001b[38;5;124m/html/body/div/div/div[2]/div/table/tbody/tr/td/div[2]/div/div[2]/form/ul/li[1]/input\u001b[39m\u001b[38;5;124m\"\u001b[39m\n\u001b[0;32m----> 2\u001b[0m element_1 \u001b[38;5;241m=\u001b[39m chrome\u001b[38;5;241m.\u001b[39mfind_element(By\u001b[38;5;241m.\u001b[39mXPATH, account_xpath)\n\u001b[1;32m      3\u001b[0m element_1\u001b[38;5;241m.\u001b[39msend_keys(\u001b[38;5;28minput\u001b[39m(\u001b[38;5;124m\"\u001b[39m\u001b[38;5;124m請輸入帳號\u001b[39m\u001b[38;5;124m\"\u001b[39m))\n",
      "File \u001b[0;32m~/anaconda3/lib/python3.11/site-packages/selenium/webdriver/remote/webdriver.py:741\u001b[0m, in \u001b[0;36mWebDriver.find_element\u001b[0;34m(self, by, value)\u001b[0m\n\u001b[1;32m    738\u001b[0m     by \u001b[38;5;241m=\u001b[39m By\u001b[38;5;241m.\u001b[39mCSS_SELECTOR\n\u001b[1;32m    739\u001b[0m     value \u001b[38;5;241m=\u001b[39m \u001b[38;5;124mf\u001b[39m\u001b[38;5;124m'\u001b[39m\u001b[38;5;124m[name=\u001b[39m\u001b[38;5;124m\"\u001b[39m\u001b[38;5;132;01m{\u001b[39;00mvalue\u001b[38;5;132;01m}\u001b[39;00m\u001b[38;5;124m\"\u001b[39m\u001b[38;5;124m]\u001b[39m\u001b[38;5;124m'\u001b[39m\n\u001b[0;32m--> 741\u001b[0m \u001b[38;5;28;01mreturn\u001b[39;00m \u001b[38;5;28mself\u001b[39m\u001b[38;5;241m.\u001b[39mexecute(Command\u001b[38;5;241m.\u001b[39mFIND_ELEMENT, {\u001b[38;5;124m\"\u001b[39m\u001b[38;5;124musing\u001b[39m\u001b[38;5;124m\"\u001b[39m: by, \u001b[38;5;124m\"\u001b[39m\u001b[38;5;124mvalue\u001b[39m\u001b[38;5;124m\"\u001b[39m: value})[\u001b[38;5;124m\"\u001b[39m\u001b[38;5;124mvalue\u001b[39m\u001b[38;5;124m\"\u001b[39m]\n",
      "File \u001b[0;32m~/anaconda3/lib/python3.11/site-packages/selenium/webdriver/remote/webdriver.py:347\u001b[0m, in \u001b[0;36mWebDriver.execute\u001b[0;34m(self, driver_command, params)\u001b[0m\n\u001b[1;32m    345\u001b[0m response \u001b[38;5;241m=\u001b[39m \u001b[38;5;28mself\u001b[39m\u001b[38;5;241m.\u001b[39mcommand_executor\u001b[38;5;241m.\u001b[39mexecute(driver_command, params)\n\u001b[1;32m    346\u001b[0m \u001b[38;5;28;01mif\u001b[39;00m response:\n\u001b[0;32m--> 347\u001b[0m     \u001b[38;5;28mself\u001b[39m\u001b[38;5;241m.\u001b[39merror_handler\u001b[38;5;241m.\u001b[39mcheck_response(response)\n\u001b[1;32m    348\u001b[0m     response[\u001b[38;5;124m\"\u001b[39m\u001b[38;5;124mvalue\u001b[39m\u001b[38;5;124m\"\u001b[39m] \u001b[38;5;241m=\u001b[39m \u001b[38;5;28mself\u001b[39m\u001b[38;5;241m.\u001b[39m_unwrap_value(response\u001b[38;5;241m.\u001b[39mget(\u001b[38;5;124m\"\u001b[39m\u001b[38;5;124mvalue\u001b[39m\u001b[38;5;124m\"\u001b[39m, \u001b[38;5;28;01mNone\u001b[39;00m))\n\u001b[1;32m    349\u001b[0m     \u001b[38;5;28;01mreturn\u001b[39;00m response\n",
      "File \u001b[0;32m~/anaconda3/lib/python3.11/site-packages/selenium/webdriver/remote/errorhandler.py:229\u001b[0m, in \u001b[0;36mErrorHandler.check_response\u001b[0;34m(self, response)\u001b[0m\n\u001b[1;32m    227\u001b[0m         alert_text \u001b[38;5;241m=\u001b[39m value[\u001b[38;5;124m\"\u001b[39m\u001b[38;5;124malert\u001b[39m\u001b[38;5;124m\"\u001b[39m]\u001b[38;5;241m.\u001b[39mget(\u001b[38;5;124m\"\u001b[39m\u001b[38;5;124mtext\u001b[39m\u001b[38;5;124m\"\u001b[39m)\n\u001b[1;32m    228\u001b[0m     \u001b[38;5;28;01mraise\u001b[39;00m exception_class(message, screen, stacktrace, alert_text)  \u001b[38;5;66;03m# type: ignore[call-arg]  # mypy is not smart enough here\u001b[39;00m\n\u001b[0;32m--> 229\u001b[0m \u001b[38;5;28;01mraise\u001b[39;00m exception_class(message, screen, stacktrace)\n",
      "\u001b[0;31mNoSuchElementException\u001b[0m: Message: no such element: Unable to locate element: {\"method\":\"xpath\",\"selector\":\"/html/body/div/div/div[2]/div/table/tbody/tr/td/div[2]/div/div[2]/form/ul/li[1]/input\"}\n  (Session info: chrome=119.0.6045.199); For documentation on this error, please visit: https://www.selenium.dev/documentation/webdriver/troubleshooting/errors#no-such-element-exception\nStacktrace:\n0   chromedriver                        0x0000000104a9e004 chromedriver + 4169732\n1   chromedriver                        0x0000000104a95ff8 chromedriver + 4136952\n2   chromedriver                        0x00000001046eb500 chromedriver + 292096\n3   chromedriver                        0x00000001047307a0 chromedriver + 575392\n4   chromedriver                        0x000000010476b818 chromedriver + 817176\n5   chromedriver                        0x00000001047245e8 chromedriver + 525800\n6   chromedriver                        0x00000001047254b8 chromedriver + 529592\n7   chromedriver                        0x0000000104a64334 chromedriver + 3932980\n8   chromedriver                        0x0000000104a68970 chromedriver + 3950960\n9   chromedriver                        0x0000000104a4c774 chromedriver + 3835764\n10  chromedriver                        0x0000000104a69478 chromedriver + 3953784\n11  chromedriver                        0x0000000104a3eab4 chromedriver + 3779252\n12  chromedriver                        0x0000000104a85914 chromedriver + 4069652\n13  chromedriver                        0x0000000104a85a90 chromedriver + 4070032\n14  chromedriver                        0x0000000104a95c70 chromedriver + 4136048\n15  libsystem_pthread.dylib             0x0000000192e0106c _pthread_start + 148\n16  libsystem_pthread.dylib             0x0000000192dfbe2c thread_start + 8\n"
     ]
    }
   ],
   "source": [
    "account_xpath = \"/html/body/div/div/div[2]/div/table/tbody/tr/td/div[2]/div/div[2]/form/ul/li[1]/input\"\n",
    "element_1 = chrome.find_element(By.XPATH, account_xpath)\n",
    "element_1.send_keys(input(\"請輸入帳號\"))"
   ]
  },
  {
   "cell_type": "code",
   "execution_count": 448,
   "id": "84589d2d",
   "metadata": {
    "scrolled": false
   },
   "outputs": [
    {
     "ename": "NoSuchElementException",
     "evalue": "Message: no such element: Unable to locate element: {\"method\":\"xpath\",\"selector\":\"/html/body/div/div/div[2]/div/table/tbody/tr/td/div[2]/div/div[2]/form/ul/li[2]/section/input\"}\n  (Session info: chrome=119.0.6045.199); For documentation on this error, please visit: https://www.selenium.dev/documentation/webdriver/troubleshooting/errors#no-such-element-exception\nStacktrace:\n0   chromedriver                        0x0000000104a9e004 chromedriver + 4169732\n1   chromedriver                        0x0000000104a95ff8 chromedriver + 4136952\n2   chromedriver                        0x00000001046eb500 chromedriver + 292096\n3   chromedriver                        0x00000001047307a0 chromedriver + 575392\n4   chromedriver                        0x000000010476b818 chromedriver + 817176\n5   chromedriver                        0x00000001047245e8 chromedriver + 525800\n6   chromedriver                        0x00000001047254b8 chromedriver + 529592\n7   chromedriver                        0x0000000104a64334 chromedriver + 3932980\n8   chromedriver                        0x0000000104a68970 chromedriver + 3950960\n9   chromedriver                        0x0000000104a4c774 chromedriver + 3835764\n10  chromedriver                        0x0000000104a69478 chromedriver + 3953784\n11  chromedriver                        0x0000000104a3eab4 chromedriver + 3779252\n12  chromedriver                        0x0000000104a85914 chromedriver + 4069652\n13  chromedriver                        0x0000000104a85a90 chromedriver + 4070032\n14  chromedriver                        0x0000000104a95c70 chromedriver + 4136048\n15  libsystem_pthread.dylib             0x0000000192e0106c _pthread_start + 148\n16  libsystem_pthread.dylib             0x0000000192dfbe2c thread_start + 8\n",
     "output_type": "error",
     "traceback": [
      "\u001b[0;31m---------------------------------------------------------------------------\u001b[0m",
      "\u001b[0;31mNoSuchElementException\u001b[0m                    Traceback (most recent call last)",
      "Cell \u001b[0;32mIn[448], line 2\u001b[0m\n\u001b[1;32m      1\u001b[0m password_xpath \u001b[38;5;241m=\u001b[39m \u001b[38;5;124m\"\u001b[39m\u001b[38;5;124m/html/body/div/div/div[2]/div/table/tbody/tr/td/div[2]/div/div[2]/form/ul/li[2]/section/input\u001b[39m\u001b[38;5;124m\"\u001b[39m\n\u001b[0;32m----> 2\u001b[0m element_2 \u001b[38;5;241m=\u001b[39m chrome\u001b[38;5;241m.\u001b[39mfind_element(By\u001b[38;5;241m.\u001b[39mXPATH, password_xpath)\n\u001b[1;32m      3\u001b[0m element_2\u001b[38;5;241m.\u001b[39msend_keys(\u001b[38;5;28minput\u001b[39m(\u001b[38;5;124m\"\u001b[39m\u001b[38;5;124m請輸入密碼\u001b[39m\u001b[38;5;124m\"\u001b[39m))\n",
      "File \u001b[0;32m~/anaconda3/lib/python3.11/site-packages/selenium/webdriver/remote/webdriver.py:741\u001b[0m, in \u001b[0;36mWebDriver.find_element\u001b[0;34m(self, by, value)\u001b[0m\n\u001b[1;32m    738\u001b[0m     by \u001b[38;5;241m=\u001b[39m By\u001b[38;5;241m.\u001b[39mCSS_SELECTOR\n\u001b[1;32m    739\u001b[0m     value \u001b[38;5;241m=\u001b[39m \u001b[38;5;124mf\u001b[39m\u001b[38;5;124m'\u001b[39m\u001b[38;5;124m[name=\u001b[39m\u001b[38;5;124m\"\u001b[39m\u001b[38;5;132;01m{\u001b[39;00mvalue\u001b[38;5;132;01m}\u001b[39;00m\u001b[38;5;124m\"\u001b[39m\u001b[38;5;124m]\u001b[39m\u001b[38;5;124m'\u001b[39m\n\u001b[0;32m--> 741\u001b[0m \u001b[38;5;28;01mreturn\u001b[39;00m \u001b[38;5;28mself\u001b[39m\u001b[38;5;241m.\u001b[39mexecute(Command\u001b[38;5;241m.\u001b[39mFIND_ELEMENT, {\u001b[38;5;124m\"\u001b[39m\u001b[38;5;124musing\u001b[39m\u001b[38;5;124m\"\u001b[39m: by, \u001b[38;5;124m\"\u001b[39m\u001b[38;5;124mvalue\u001b[39m\u001b[38;5;124m\"\u001b[39m: value})[\u001b[38;5;124m\"\u001b[39m\u001b[38;5;124mvalue\u001b[39m\u001b[38;5;124m\"\u001b[39m]\n",
      "File \u001b[0;32m~/anaconda3/lib/python3.11/site-packages/selenium/webdriver/remote/webdriver.py:347\u001b[0m, in \u001b[0;36mWebDriver.execute\u001b[0;34m(self, driver_command, params)\u001b[0m\n\u001b[1;32m    345\u001b[0m response \u001b[38;5;241m=\u001b[39m \u001b[38;5;28mself\u001b[39m\u001b[38;5;241m.\u001b[39mcommand_executor\u001b[38;5;241m.\u001b[39mexecute(driver_command, params)\n\u001b[1;32m    346\u001b[0m \u001b[38;5;28;01mif\u001b[39;00m response:\n\u001b[0;32m--> 347\u001b[0m     \u001b[38;5;28mself\u001b[39m\u001b[38;5;241m.\u001b[39merror_handler\u001b[38;5;241m.\u001b[39mcheck_response(response)\n\u001b[1;32m    348\u001b[0m     response[\u001b[38;5;124m\"\u001b[39m\u001b[38;5;124mvalue\u001b[39m\u001b[38;5;124m\"\u001b[39m] \u001b[38;5;241m=\u001b[39m \u001b[38;5;28mself\u001b[39m\u001b[38;5;241m.\u001b[39m_unwrap_value(response\u001b[38;5;241m.\u001b[39mget(\u001b[38;5;124m\"\u001b[39m\u001b[38;5;124mvalue\u001b[39m\u001b[38;5;124m\"\u001b[39m, \u001b[38;5;28;01mNone\u001b[39;00m))\n\u001b[1;32m    349\u001b[0m     \u001b[38;5;28;01mreturn\u001b[39;00m response\n",
      "File \u001b[0;32m~/anaconda3/lib/python3.11/site-packages/selenium/webdriver/remote/errorhandler.py:229\u001b[0m, in \u001b[0;36mErrorHandler.check_response\u001b[0;34m(self, response)\u001b[0m\n\u001b[1;32m    227\u001b[0m         alert_text \u001b[38;5;241m=\u001b[39m value[\u001b[38;5;124m\"\u001b[39m\u001b[38;5;124malert\u001b[39m\u001b[38;5;124m\"\u001b[39m]\u001b[38;5;241m.\u001b[39mget(\u001b[38;5;124m\"\u001b[39m\u001b[38;5;124mtext\u001b[39m\u001b[38;5;124m\"\u001b[39m)\n\u001b[1;32m    228\u001b[0m     \u001b[38;5;28;01mraise\u001b[39;00m exception_class(message, screen, stacktrace, alert_text)  \u001b[38;5;66;03m# type: ignore[call-arg]  # mypy is not smart enough here\u001b[39;00m\n\u001b[0;32m--> 229\u001b[0m \u001b[38;5;28;01mraise\u001b[39;00m exception_class(message, screen, stacktrace)\n",
      "\u001b[0;31mNoSuchElementException\u001b[0m: Message: no such element: Unable to locate element: {\"method\":\"xpath\",\"selector\":\"/html/body/div/div/div[2]/div/table/tbody/tr/td/div[2]/div/div[2]/form/ul/li[2]/section/input\"}\n  (Session info: chrome=119.0.6045.199); For documentation on this error, please visit: https://www.selenium.dev/documentation/webdriver/troubleshooting/errors#no-such-element-exception\nStacktrace:\n0   chromedriver                        0x0000000104a9e004 chromedriver + 4169732\n1   chromedriver                        0x0000000104a95ff8 chromedriver + 4136952\n2   chromedriver                        0x00000001046eb500 chromedriver + 292096\n3   chromedriver                        0x00000001047307a0 chromedriver + 575392\n4   chromedriver                        0x000000010476b818 chromedriver + 817176\n5   chromedriver                        0x00000001047245e8 chromedriver + 525800\n6   chromedriver                        0x00000001047254b8 chromedriver + 529592\n7   chromedriver                        0x0000000104a64334 chromedriver + 3932980\n8   chromedriver                        0x0000000104a68970 chromedriver + 3950960\n9   chromedriver                        0x0000000104a4c774 chromedriver + 3835764\n10  chromedriver                        0x0000000104a69478 chromedriver + 3953784\n11  chromedriver                        0x0000000104a3eab4 chromedriver + 3779252\n12  chromedriver                        0x0000000104a85914 chromedriver + 4069652\n13  chromedriver                        0x0000000104a85a90 chromedriver + 4070032\n14  chromedriver                        0x0000000104a95c70 chromedriver + 4136048\n15  libsystem_pthread.dylib             0x0000000192e0106c _pthread_start + 148\n16  libsystem_pthread.dylib             0x0000000192dfbe2c thread_start + 8\n"
     ]
    }
   ],
   "source": [
    "password_xpath = \"/html/body/div/div/div[2]/div/table/tbody/tr/td/div[2]/div/div[2]/form/ul/li[2]/section/input\"\n",
    "element_2 = chrome.find_element(By.XPATH, password_xpath)\n",
    "element_2.send_keys(input(\"請輸入密碼\"))"
   ]
  },
  {
   "cell_type": "code",
   "execution_count": 403,
   "id": "3c0a9a17",
   "metadata": {},
   "outputs": [],
   "source": [
    "enter_path = \"/html/body/div/div/div[2]/div/table/tbody/tr/td/div[2]/div/div[2]/form/ul/li[3]/input\"\n",
    "button_1 = chrome.find_element(By.XPATH,enter_path)\n",
    "button_1.click()"
   ]
  },
  {
   "cell_type": "code",
   "execution_count": null,
   "id": "7d57b29a",
   "metadata": {
    "scrolled": true
   },
   "outputs": [],
   "source": [
    "account_xpath = \"/html/body/div/div/div[1]/div/form/table/tbody/tr/td[2]/input\"\n",
    "element_3 = chrome.find_element(By.XPATH, account_xpath)\n",
    "element_3.send_keys(\" \")\n",
    "element_3.send_keys(input(\"請輸入關鍵字\"))"
   ]
  },
  {
   "cell_type": "code",
   "execution_count": 405,
   "id": "6020eb60",
   "metadata": {},
   "outputs": [],
   "source": [
    "enter_path_for_search = \"/html/body/div/div/div[1]/div/form/table/tbody/tr/td[3]/input\"\n",
    "button_2 = chrome.find_element(By.XPATH,enter_path_for_search)\n",
    "button_2.click()"
   ]
  },
  {
   "cell_type": "code",
   "execution_count": 406,
   "id": "1b524fc5",
   "metadata": {},
   "outputs": [],
   "source": [
    "search = chrome.page_source"
   ]
  },
  {
   "cell_type": "code",
   "execution_count": 407,
   "id": "1ea0052f",
   "metadata": {},
   "outputs": [],
   "source": [
    "url = search\n",
    "soup = BeautifulSoup(url, 'lxml')"
   ]
  },
  {
   "cell_type": "code",
   "execution_count": 436,
   "id": "ee50ae6a",
   "metadata": {},
   "outputs": [],
   "source": [
    "post = soup.find_all(\"div\", class_ = \"de\")"
   ]
  },
  {
   "cell_type": "code",
   "execution_count": 443,
   "id": "2d5d4108",
   "metadata": {
    "scrolled": true
   },
   "outputs": [
    {
     "data": {
      "text/plain": [
       "'空罐王'"
      ]
     },
     "execution_count": 443,
     "metadata": {},
     "output_type": "execute_result"
    }
   ],
   "source": [
    "post[0].find(\"span\").text"
   ]
  },
  {
   "cell_type": "code",
   "execution_count": 444,
   "id": "c4fbdffd",
   "metadata": {},
   "outputs": [],
   "source": [
    "datas = []\n",
    "\n",
    "for pp in post:\n",
    "    try:\n",
    "        post_text = pp.find(\"span\").text\n",
    "        datas.append([post_text])  \n",
    "    except Exception as e:\n",
    "        print(e)"
   ]
  },
  {
   "cell_type": "code",
   "execution_count": 445,
   "id": "8e46231a",
   "metadata": {
    "scrolled": true
   },
   "outputs": [
    {
     "data": {
      "text/plain": [
       "[['空罐王'],\n",
       " [\"陳源宏 > \\u200e🙈🙉🙊《刪到猴子的一生what's wrong with ART?》🙈🙉🙊\"],\n",
       " ['Power in Nursing 護理的力量'],\n",
       " ['三立新聞 台灣亮起來']]"
      ]
     },
     "execution_count": 445,
     "metadata": {},
     "output_type": "execute_result"
    }
   ],
   "source": [
    "datas"
   ]
  },
  {
   "cell_type": "code",
   "execution_count": 446,
   "id": "a24b4987",
   "metadata": {},
   "outputs": [
    {
     "data": {
      "text/html": [
       "<div>\n",
       "<style scoped>\n",
       "    .dataframe tbody tr th:only-of-type {\n",
       "        vertical-align: middle;\n",
       "    }\n",
       "\n",
       "    .dataframe tbody tr th {\n",
       "        vertical-align: top;\n",
       "    }\n",
       "\n",
       "    .dataframe thead th {\n",
       "        text-align: right;\n",
       "    }\n",
       "</style>\n",
       "<table border=\"1\" class=\"dataframe\">\n",
       "  <thead>\n",
       "    <tr style=\"text-align: right;\">\n",
       "      <th></th>\n",
       "      <th>0</th>\n",
       "    </tr>\n",
       "  </thead>\n",
       "  <tbody>\n",
       "    <tr>\n",
       "      <th>0</th>\n",
       "      <td>空罐王</td>\n",
       "    </tr>\n",
       "    <tr>\n",
       "      <th>1</th>\n",
       "      <td>陳源宏 &gt; ‎🙈🙉🙊《刪到猴子的一生what's wrong with ART?》🙈🙉🙊</td>\n",
       "    </tr>\n",
       "    <tr>\n",
       "      <th>2</th>\n",
       "      <td>Power in Nursing 護理的力量</td>\n",
       "    </tr>\n",
       "    <tr>\n",
       "      <th>3</th>\n",
       "      <td>三立新聞 台灣亮起來</td>\n",
       "    </tr>\n",
       "  </tbody>\n",
       "</table>\n",
       "</div>"
      ],
      "text/plain": [
       "                                              0\n",
       "0                                           空罐王\n",
       "1  陳源宏 > ‎🙈🙉🙊《刪到猴子的一生what's wrong with ART?》🙈🙉🙊\n",
       "2                        Power in Nursing 護理的力量\n",
       "3                                    三立新聞 台灣亮起來"
      ]
     },
     "execution_count": 446,
     "metadata": {},
     "output_type": "execute_result"
    }
   ],
   "source": [
    "pf = pd.DataFrame(datas)\n",
    "pf"
   ]
  }
 ],
 "metadata": {
  "kernelspec": {
   "display_name": "Python 3 (ipykernel)",
   "language": "python",
   "name": "python3"
  },
  "language_info": {
   "codemirror_mode": {
    "name": "ipython",
    "version": 3
   },
   "file_extension": ".py",
   "mimetype": "text/x-python",
   "name": "python",
   "nbconvert_exporter": "python",
   "pygments_lexer": "ipython3",
   "version": "3.11.4"
  }
 },
 "nbformat": 4,
 "nbformat_minor": 5
}
