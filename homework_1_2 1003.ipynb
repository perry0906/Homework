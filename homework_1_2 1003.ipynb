{
 "cells": [
  {
   "cell_type": "code",
   "execution_count": 74,
   "id": "959378c1",
   "metadata": {
    "scrolled": true
   },
   "outputs": [
    {
     "name": "stdout",
     "output_type": "stream",
     "text": [
      "裝備：\n",
      "12 箭\n",
      "42 銀角仔\n",
      "1 索仔\n",
      "6 火把\n",
      "1 刀仔\n",
      "裝備總數： 62\n"
     ]
    }
   ],
   "source": [
    "inventory = {\"箭\": 12, \"銀角仔\": 42, \"索仔\": 1, \"火把\": 6, \"刀仔\": 1}\n",
    "\n",
    "print(\"裝備：\")\n",
    "for key, value in inventory.items():\n",
    "    print( value, key)\n",
    "print(\"裝備總數：\", sum(inventory[x] for x in inventory))"
   ]
  },
  {
   "cell_type": "code",
   "execution_count": 75,
   "id": "cc8ddc32",
   "metadata": {
    "scrolled": false
   },
   "outputs": [
    {
     "name": "stdout",
     "output_type": "stream",
     "text": [
      "裝備：\n",
      "12 箭\n",
      "44 銀角仔\n",
      "2 索仔\n",
      "6 火把\n",
      "2 刀仔\n",
      "1 紅寶石\n",
      "裝備總數： 67\n"
     ]
    }
   ],
   "source": [
    "def addToInventory(inventory, dragonloot):\n",
    "    # 創建一個新的字典，用於存放合併後的裝備清單\n",
    "    updated_inventory = inventory.copy()\n",
    "\n",
    "    # 遍歷新獲得的裝備列表\n",
    "    for item in dragonloot:\n",
    "        # 將每個新裝備加入或更新到主角裝備清單中\n",
    "        updated_inventory[item] = updated_inventory.get(item, 0) + 1\n",
    "\n",
    "    # 返回合併後的主角裝備清單\n",
    "    return updated_inventory\n",
    "\n",
    "# 範例使用\n",
    "# 主角原有的裝備\n",
    "inventory = {\"箭\": 12, \"銀角仔\": 42, \"索仔\": 1, \"火把\": 6, \"刀仔\": 1}\n",
    "\n",
    "# 新獲得的裝備\n",
    "dragonloot = [\"索仔\",\"刀仔\",\"銀角仔\",\"銀角仔\",\"紅寶石\"]\n",
    "\n",
    "# 使用函式進行合併\n",
    "updated_inventory = addToInventory(inventory, dragonloot)\n",
    "\n",
    "# 打印合併後的裝備清單\n",
    "print(\"裝備：\")\n",
    "for key, value in updated_inventory.items():\n",
    "    print( value, key)\n",
    "print(\"裝備總數：\", sum(updated_inventory[x] for x in updated_inventory))\n",
    "#這裡感謝chatgpt"
   ]
  },
  {
   "cell_type": "code",
   "execution_count": 1,
   "id": "40845743",
   "metadata": {},
   "outputs": [
    {
     "name": "stdout",
     "output_type": "stream",
     "text": [
      "請輸入一個正整數（按Enter離開）: 2\n",
      "2 的所有因數為: [1, 2]\n",
      "請輸入一個正整數（按Enter離開）: 3\n",
      "3 的所有因數為: [1, 3]\n",
      "請輸入一個正整數（按Enter離開）: 4\n",
      "4 的所有因數為: [1, 2, 4]\n",
      "請輸入一個正整數（按Enter離開）: 5\n",
      "5 的所有因數為: [1, 5]\n",
      "請輸入一個正整數（按Enter離開）: \n",
      "程式結束。\n"
     ]
    }
   ],
   "source": [
    "while True:\n",
    "    # 要求使用者輸入整數\n",
    "    user_input = input(\"請輸入一個正整數（按Enter離開）: \")\n",
    "\n",
    "    # 檢查是否按Enter離開\n",
    "    if user_input == '':\n",
    "        print(\"程式結束。\")\n",
    "        break\n",
    "\n",
    "    try:\n",
    "        # 將輸入轉換為整數\n",
    "        number = int(user_input)\n",
    "\n",
    "        # 檢查是否為正整數\n",
    "        if number <= 0:\n",
    "            print(\"請輸入正整數。\")\n",
    "            continue\n",
    "\n",
    "        # 找因數\n",
    "        factors = [i for i in range(1, number + 1) if number % i == 0]\n",
    "\n",
    "        # 輸出因數\n",
    "        print(f\"{number} 的所有因數為: {factors}\")\n",
    "\n",
    "    except ValueError:\n",
    "        # 處理非整數輸入\n",
    "        print(\"錯誤：請輸入一個正整數。\")\n",
    "        continue\n",
    "#這裡也感謝chatgpt"
   ]
  }
 ],
 "metadata": {
  "kernelspec": {
   "display_name": "Python 3 (ipykernel)",
   "language": "python",
   "name": "python3"
  },
  "language_info": {
   "codemirror_mode": {
    "name": "ipython",
    "version": 3
   },
   "file_extension": ".py",
   "mimetype": "text/x-python",
   "name": "python",
   "nbconvert_exporter": "python",
   "pygments_lexer": "ipython3",
   "version": "3.11.4"
  }
 },
 "nbformat": 4,
 "nbformat_minor": 5
}
