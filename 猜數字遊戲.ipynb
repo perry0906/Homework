{
 "cells": [
  {
   "cell_type": "code",
   "execution_count": 1,
   "id": "9d6c9eda",
   "metadata": {},
   "outputs": [
    {
     "name": "stdout",
     "output_type": "stream",
     "text": [
      "Please give me a number between 1 to 100.10\n",
      "The number shoud be bigger. Let's try again:90\n",
      "The number should be smaller. Let's try again:80\n",
      "The number should be smaller. Let's try again:50\n",
      "The number shoud be bigger. Let's try again:60\n",
      "The number shoud be bigger. Let's try again:70\n",
      "The number shoud be bigger. Let's try again:78\n",
      "The number should be smaller. Let's try again:77\n",
      "The number should be smaller. Let's try again:76\n",
      "The number should be smaller. Let's try again:75\n",
      "The number should be smaller. Let's try again:74\n",
      "Great! The answer is 74, you're right!\n"
     ]
    }
   ],
   "source": [
    "#猜數字遊戲\n",
    "import random \n",
    "a = random.randint(1, 100) #將a定義為0~100的隨機數\n",
    "b = int(input(\"Please give me a number between 1 to 100.\")) #相使用者索取數字\n",
    "\n",
    "while True:  #while loop\n",
    "    if b < a: #如果b小於a\n",
    "        b = int(input(\"The number shoud be bigger. Let's try again:\")) #再次定義b\n",
    "    elif b > a:  #如果b大於a\n",
    "        b = int(input(\"The number should be smaller. Let's try again:\"))  #再次定義b\n",
    "    else:  #以上情況皆非\n",
    "        print(f\"Great! The answer is {b}, you're right!\") #答案正確\n",
    "        break #離開迴圈"
   ]
  }
 ],
 "metadata": {
  "kernelspec": {
   "display_name": "Python 3 (ipykernel)",
   "language": "python",
   "name": "python3"
  },
  "language_info": {
   "codemirror_mode": {
    "name": "ipython",
    "version": 3
   },
   "file_extension": ".py",
   "mimetype": "text/x-python",
   "name": "python",
   "nbconvert_exporter": "python",
   "pygments_lexer": "ipython3",
   "version": "3.11.4"
  }
 },
 "nbformat": 4,
 "nbformat_minor": 5
}
