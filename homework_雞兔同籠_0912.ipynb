{
 "cells": [
  {
   "cell_type": "code",
   "execution_count": 33,
   "id": "a3870bef",
   "metadata": {
    "scrolled": true
   },
   "outputs": [
    {
     "name": "stdout",
     "output_type": "stream",
     "text": [
      "How many animals in the cage?10\n",
      "How many legs?30\n",
      "There are 5 chickens and 5 rabbits\n"
     ]
    }
   ],
   "source": [
    "h=int(input(\"How many animals in the cage?\"))\n",
    "f=int(input(\"How many legs?\"))\n",
    "\n",
    "c=int((4*h-f)/2)\n",
    "r=h-chicken\n",
    "\n",
    "print(f\"There are {c} chickens and {r} rabbits\")"
   ]
  },
  {
   "cell_type": "code",
   "execution_count": null,
   "id": "58f909fb",
   "metadata": {},
   "outputs": [],
   "source": []
  }
 ],
 "metadata": {
  "kernelspec": {
   "display_name": "Python 3 (ipykernel)",
   "language": "python",
   "name": "python3"
  },
  "language_info": {
   "codemirror_mode": {
    "name": "ipython",
    "version": 3
   },
   "file_extension": ".py",
   "mimetype": "text/x-python",
   "name": "python",
   "nbconvert_exporter": "python",
   "pygments_lexer": "ipython3",
   "version": "3.11.4"
  }
 },
 "nbformat": 4,
 "nbformat_minor": 5
}
