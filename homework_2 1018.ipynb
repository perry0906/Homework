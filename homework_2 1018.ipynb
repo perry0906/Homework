{
 "cells": [
  {
   "cell_type": "code",
   "execution_count": 28,
   "id": "72887c04",
   "metadata": {
    "scrolled": true
   },
   "outputs": [
    {
     "name": "stdout",
     "output_type": "stream",
     "text": [
      "-----------------------------------\n",
      "apples  oranges  cherries  banana  \n",
      "Alice   Bob      Carol     David   \n",
      "dogs    cats     moose     goose   \n",
      "-----------------------------------\n"
     ]
    }
   ],
   "source": [
    "def printTable(data):\n",
    "    if not data:\n",
    "        print(\"Empty table\")\n",
    "        return\n",
    "\n",
    "    col_widths = [max(len(str(row[i])) for row in data) for i in range(len(data[0]))]\n",
    "    \n",
    "    print(\"-\" * (sum(col_widths) + len(col_widths) * 2))\n",
    "    \n",
    "    for row in data:\n",
    "        for i in range(len(row)):\n",
    "            print(f\"{str(row[i]).ljust(col_widths[i])}\", end='  ')\n",
    "        print()\n",
    "        \n",
    "    print(\"-\" * (sum(col_widths) + len(col_widths) * 2))\n",
    "    \n",
    "tableData = [\n",
    "    ['apples', 'oranges', 'cherries', 'banana'],\n",
    "    ['Alice', 'Bob', 'Carol', 'David'],\n",
    "    ['dogs', 'cats', 'moose', 'goose']\n",
    "]\n",
    "\n",
    "printTable(tableData)\n"
   ]
  },
  {
   "cell_type": "code",
   "execution_count": null,
   "id": "dc18f32d",
   "metadata": {},
   "outputs": [],
   "source": []
  }
 ],
 "metadata": {
  "kernelspec": {
   "display_name": "Python 3 (ipykernel)",
   "language": "python",
   "name": "python3"
  },
  "language_info": {
   "codemirror_mode": {
    "name": "ipython",
    "version": 3
   },
   "file_extension": ".py",
   "mimetype": "text/x-python",
   "name": "python",
   "nbconvert_exporter": "python",
   "pygments_lexer": "ipython3",
   "version": "3.11.4"
  }
 },
 "nbformat": 4,
 "nbformat_minor": 5
}
