{
 "cells": [
  {
   "cell_type": "code",
   "execution_count": 1,
   "id": "a7b6c2fe",
   "metadata": {},
   "outputs": [
    {
     "name": "stdout",
     "output_type": "stream",
     "text": [
      "請輸入您的電子郵件地址0\n",
      "這並非有效的電子郵件地址\n"
     ]
    }
   ],
   "source": [
    "import re #輸入內建函式\n",
    "\n",
    "a = input(\"請輸入您的電子郵件地址\") \n",
    "#向使用者索取郵件地址，a用來定義輸入內容，可以換！\n",
    "\n",
    "b = r\"^\\w+([-+.]\\w+)*@\\w+([-.]\\w+)*\\.\\w+([-.]\\w+)*$\" \n",
    "#用來比對輸入的內容，用b來定義這個正規表達式的模版，記得在正規表達式外面加上r\"（正規表達式）\"\n",
    "\n",
    "#用if/else來輸出訊息\n",
    "\n",
    "if re.match(b, a):    \n",
    "    print(\"這是有效的電子郵件地址\")\n",
    "    \n",
    "else:\n",
    "    print(\"這並非有效的電子郵件地址\")"
   ]
  },
  {
   "cell_type": "code",
   "execution_count": null,
   "id": "2d58c045",
   "metadata": {},
   "outputs": [],
   "source": []
  }
 ],
 "metadata": {
  "kernelspec": {
   "display_name": "Python 3 (ipykernel)",
   "language": "python",
   "name": "python3"
  },
  "language_info": {
   "codemirror_mode": {
    "name": "ipython",
    "version": 3
   },
   "file_extension": ".py",
   "mimetype": "text/x-python",
   "name": "python",
   "nbconvert_exporter": "python",
   "pygments_lexer": "ipython3",
   "version": "3.11.4"
  }
 },
 "nbformat": 4,
 "nbformat_minor": 5
}
