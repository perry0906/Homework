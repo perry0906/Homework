{
 "cells": [
  {
   "cell_type": "code",
   "execution_count": 8,
   "id": "61ff6580",
   "metadata": {},
   "outputs": [],
   "source": [
    "#建立一個數字串列並列印串列的長度 \n",
    "a = [0, 1, 2, 3, 4, 5]"
   ]
  },
  {
   "cell_type": "code",
   "execution_count": 9,
   "id": "823e4875",
   "metadata": {},
   "outputs": [
    {
     "data": {
      "text/plain": [
       "6"
      ]
     },
     "execution_count": 9,
     "metadata": {},
     "output_type": "execute_result"
    }
   ],
   "source": [
    "len(a)"
   ]
  },
  {
   "cell_type": "code",
   "execution_count": 13,
   "id": "cc260886",
   "metadata": {},
   "outputs": [
    {
     "data": {
      "text/plain": [
       "[0, 1, 2, 3, 4, 5, 6]"
      ]
     },
     "execution_count": 13,
     "metadata": {},
     "output_type": "execute_result"
    }
   ],
   "source": [
    "# 在串列的末尾新增一個數字並再次列印串列\n",
    "a + [6]"
   ]
  },
  {
   "cell_type": "code",
   "execution_count": 14,
   "id": "0db5da1d",
   "metadata": {},
   "outputs": [],
   "source": [
    "#從串列中移除第一個數字並再次列印串列\n",
    "del a[0]"
   ]
  },
  {
   "cell_type": "code",
   "execution_count": 15,
   "id": "287e9d36",
   "metadata": {},
   "outputs": [
    {
     "data": {
      "text/plain": [
       "[1, 2, 3, 4, 5]"
      ]
     },
     "execution_count": 15,
     "metadata": {},
     "output_type": "execute_result"
    }
   ],
   "source": [
    "a"
   ]
  },
  {
   "cell_type": "code",
   "execution_count": 20,
   "id": "2f96e871",
   "metadata": {},
   "outputs": [
    {
     "data": {
      "text/plain": [
       "[1, 2, 3, 4, 5, 6]"
      ]
     },
     "execution_count": 20,
     "metadata": {},
     "output_type": "execute_result"
    }
   ],
   "source": [
    "#將串列排序為升序並再次列印串列\n",
    "sorted(a)"
   ]
  },
  {
   "cell_type": "code",
   "execution_count": 21,
   "id": "c7982b21",
   "metadata": {},
   "outputs": [
    {
     "data": {
      "text/plain": [
       "[6, 5, 4, 3, 2, 1]"
      ]
     },
     "execution_count": 21,
     "metadata": {},
     "output_type": "execute_result"
    }
   ],
   "source": [
    "#反轉串列並再次列印串列\n",
    "a[::-1]"
   ]
  },
  {
   "cell_type": "code",
   "execution_count": 26,
   "id": "5f5746fc",
   "metadata": {},
   "outputs": [
    {
     "name": "stdout",
     "output_type": "stream",
     "text": [
      "請輸入0~5的數字5\n"
     ]
    },
    {
     "data": {
      "text/plain": [
       "6"
      ]
     },
     "execution_count": 26,
     "metadata": {},
     "output_type": "execute_result"
    }
   ],
   "source": [
    "#在串列中尋找一個數字的索引\n",
    "a[int(input(\"請輸入0~5的數字\"))]"
   ]
  },
  {
   "cell_type": "code",
   "execution_count": 38,
   "id": "705f3828",
   "metadata": {},
   "outputs": [
    {
     "name": "stdout",
     "output_type": "stream",
     "text": [
      "請輸入數字2\n"
     ]
    },
    {
     "data": {
      "text/plain": [
       "True"
      ]
     },
     "execution_count": 38,
     "metadata": {},
     "output_type": "execute_result"
    }
   ],
   "source": [
    "#檢查一個數字是否在串列中\n",
    "int(input(\"請輸入數字\")) in a"
   ]
  },
  {
   "cell_type": "code",
   "execution_count": 36,
   "id": "58410af7",
   "metadata": {},
   "outputs": [
    {
     "name": "stdout",
     "output_type": "stream",
     "text": [
      "輸入起始項0\n",
      "輸入結束項1\n"
     ]
    },
    {
     "data": {
      "text/plain": [
       "[1]"
      ]
     },
     "execution_count": 36,
     "metadata": {},
     "output_type": "execute_result"
    }
   ],
   "source": [
    "#取得串列的切片\n",
    "a[int(input(\"輸入起始項\")) : int(input(\"輸入結束項\"))]"
   ]
  },
  {
   "cell_type": "code",
   "execution_count": 37,
   "id": "ec4f19b5",
   "metadata": {},
   "outputs": [],
   "source": [
    "#建立一個數字元組並列印元組\n",
    "b = (7, 8, 9, 10)"
   ]
  },
  {
   "cell_type": "code",
   "execution_count": null,
   "id": "1e02814a",
   "metadata": {},
   "outputs": [],
   "source": [
    "#檢查一個數字是否在元組中\n",
    "int(input(\"請輸入數字\")) in b"
   ]
  },
  {
   "cell_type": "code",
   "execution_count": 46,
   "id": "9979c0c6",
   "metadata": {},
   "outputs": [
    {
     "name": "stdout",
     "output_type": "stream",
     "text": [
      "請輸入起始項0\n",
      "請輸入結束項2\n"
     ]
    },
    {
     "data": {
      "text/plain": [
       "(7, 8)"
      ]
     },
     "execution_count": 46,
     "metadata": {},
     "output_type": "execute_result"
    }
   ],
   "source": [
    "#取得元組的切片\n",
    "b[int(input(\"請輸入起始項\")) : int(input(\"請輸入結束項\"))]"
   ]
  }
 ],
 "metadata": {
  "kernelspec": {
   "display_name": "Python 3 (ipykernel)",
   "language": "python",
   "name": "python3"
  },
  "language_info": {
   "codemirror_mode": {
    "name": "ipython",
    "version": 3
   },
   "file_extension": ".py",
   "mimetype": "text/x-python",
   "name": "python",
   "nbconvert_exporter": "python",
   "pygments_lexer": "ipython3",
   "version": "3.11.4"
  }
 },
 "nbformat": 4,
 "nbformat_minor": 5
}
