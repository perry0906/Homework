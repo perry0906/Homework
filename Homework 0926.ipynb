{
 "cells": [
  {
   "cell_type": "code",
   "execution_count": 59,
   "id": "d688fc65",
   "metadata": {},
   "outputs": [
    {
     "data": {
      "text/plain": [
       "{1, 2, 3, 4, 5}"
      ]
     },
     "execution_count": 59,
     "metadata": {},
     "output_type": "execute_result"
    }
   ],
   "source": [
    "#建立一個數字集合並列印集合。\n",
    "cset = {1, 2, 3, 4, 5}\n",
    "cset"
   ]
  },
  {
   "cell_type": "code",
   "execution_count": 60,
   "id": "373d3b0e",
   "metadata": {},
   "outputs": [
    {
     "data": {
      "text/plain": [
       "{1, 2, 3, 4, 5, 6}"
      ]
     },
     "execution_count": 60,
     "metadata": {},
     "output_type": "execute_result"
    }
   ],
   "source": [
    "#在集合中新增一個數字並再次列印集合。\n",
    "cset.add(6)\n",
    "cset"
   ]
  },
  {
   "cell_type": "code",
   "execution_count": 61,
   "id": "b0b87752",
   "metadata": {},
   "outputs": [
    {
     "data": {
      "text/plain": [
       "{2, 3, 4, 5, 6}"
      ]
     },
     "execution_count": 61,
     "metadata": {},
     "output_type": "execute_result"
    }
   ],
   "source": [
    "#從集合中移除一個數字並再次列印集合。\n",
    "cset.pop()\n",
    "cset"
   ]
  },
  {
   "cell_type": "code",
   "execution_count": 62,
   "id": "a7ef5243",
   "metadata": {},
   "outputs": [
    {
     "name": "stdout",
     "output_type": "stream",
     "text": [
      "please enter a number to check if it's in the cset.5\n"
     ]
    },
    {
     "data": {
      "text/plain": [
       "False"
      ]
     },
     "execution_count": 62,
     "metadata": {},
     "output_type": "execute_result"
    }
   ],
   "source": [
    "#檢查一個數字是否在集合中。\n",
    "cset.issubset(str(input(\"please enter a number to check if it's in the cset.\")))"
   ]
  },
  {
   "cell_type": "code",
   "execution_count": 3,
   "id": "290c688c",
   "metadata": {},
   "outputs": [
    {
     "data": {
      "text/plain": [
       "{'adam': 12, 'bill': 15, 'cindy': 17, 'derek': 20}"
      ]
     },
     "execution_count": 3,
     "metadata": {},
     "output_type": "execute_result"
    }
   ],
   "source": [
    "#建立一個名字和年齡的字典並列印字典。\n",
    "ji_tiam = {\"adam\": 12, \"bill\": 15, \"cindy\": 17, \"derek\": 20}\n",
    "ji_tiam"
   ]
  },
  {
   "cell_type": "code",
   "execution_count": 4,
   "id": "0eb6fe24",
   "metadata": {},
   "outputs": [
    {
     "data": {
      "text/plain": [
       "{'adam': 12, 'bill': 15, 'cindy': 17, 'derek': 20, 'evan': 23}"
      ]
     },
     "execution_count": 4,
     "metadata": {},
     "output_type": "execute_result"
    }
   ],
   "source": [
    "#在字典中新增一個新的名字和年齡並再次列印字典。\n",
    "ji_tiam[\"evan\"] = 23\n",
    "ji_tiam"
   ]
  },
  {
   "cell_type": "code",
   "execution_count": 5,
   "id": "d8fbfc5f",
   "metadata": {},
   "outputs": [
    {
     "data": {
      "text/plain": [
       "12"
      ]
     },
     "execution_count": 5,
     "metadata": {},
     "output_type": "execute_result"
    }
   ],
   "source": [
    "#從字典中取得一個名字的年齡。\n",
    "ji_tiam[\"adam\"]"
   ]
  }
 ],
 "metadata": {
  "kernelspec": {
   "display_name": "Python 3 (ipykernel)",
   "language": "python",
   "name": "python3"
  },
  "language_info": {
   "codemirror_mode": {
    "name": "ipython",
    "version": 3
   },
   "file_extension": ".py",
   "mimetype": "text/x-python",
   "name": "python",
   "nbconvert_exporter": "python",
   "pygments_lexer": "ipython3",
   "version": "3.11.4"
  }
 },
 "nbformat": 4,
 "nbformat_minor": 5
}
