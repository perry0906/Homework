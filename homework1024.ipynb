{
 "cells": [
  {
   "cell_type": "code",
   "execution_count": 2,
   "id": "bf499eae",
   "metadata": {
    "scrolled": false
   },
   "outputs": [
    {
     "name": "stdout",
     "output_type": "stream",
     "text": [
      "khinhoan@ntnu.edu.tw\n",
      "taiwancenter@ntnu.edu.tw\n",
      "yjchen@ntnu.edu.tw\n",
      "ptm110_13629@ntnu.edu.tw\n",
      "senghian@ntnu.edu.tw\n",
      "ccy325@ntnu.edu.tw\n",
      "yuying.chuang@ntnu.edu.tw\n",
      "longa@ntnu.edu.tw\n",
      "hsuhj@ntnu.edu.tw\n",
      "laalaapiano@ntnu.edu.tw\n",
      "irenelu@ntnu.edu.tw\n",
      "t21005@ntnu.edu.tw\n",
      "high221@ntnu.edu.tw\n",
      "shumeishih@ntnu.edu.tw\n",
      "annheylen@ntnu.edu.tw\n",
      "fmlin@ntnu.edu.tw\n",
      "siokhui@ntnu.edu.tw\n",
      "tcll@ntnu.edu.tw\n",
      "ptm112-15084@ntnu.edu.tw\n",
      "nikkylin@ntnu.edu.tw\n",
      "ocean2013@ntnu.edu.tw\n",
      "libichhin@ntnu.edu.tw\n",
      "peichen@ntnu.edu.tw\n",
      "ptm106_10351@ntnu.edu.tw\n",
      "issai@ntnu.edu.tw\n",
      "huibing@ntnu.edu.tw\n",
      "irowen@ntnu.edu.tw\n"
     ]
    }
   ],
   "source": [
    "#帶入第三方程式\n",
    "import requests\n",
    "import re\n",
    "\n",
    "#定義webside為指定抓取網站\n",
    "webside = \"https://www.tcll.ntnu.edu.tw/index.php/faculty/\"\n",
    "#定義resp作為對website進行get運算的變數\n",
    "resp = requests.get(webside)\n",
    "#定義html作為對resp進行text運算的變數（輸出文字）\n",
    "html = resp.text\n",
    "\n",
    "#定義pattern為辨識電子郵件地址的正規表達式\n",
    "pattern = r\"\\b[A-Za-z0-9._%+-]+@[A-Za-z0-9.-]+\\.[A-Za-z]{2,4}\\b\"\n",
    "\n",
    "#定義address為對pattern和html進行findall比對的變數\n",
    "address = re.findall(pattern, html)\n",
    "\n",
    "#定義only為指定address為一個集合（以及和方式來確保資料不重複）\n",
    "only = set(address)\n",
    "\n",
    "#使用for迴圈對only進行進行訪問（透過email對only進行訪問）\n",
    "for email in only:\n",
    "    #輸出email\n",
    "    print(email)"
   ]
  }
 ],
 "metadata": {
  "kernelspec": {
   "display_name": "Python 3 (ipykernel)",
   "language": "python",
   "name": "python3"
  },
  "language_info": {
   "codemirror_mode": {
    "name": "ipython",
    "version": 3
   },
   "file_extension": ".py",
   "mimetype": "text/x-python",
   "name": "python",
   "nbconvert_exporter": "python",
   "pygments_lexer": "ipython3",
   "version": "3.11.4"
  }
 },
 "nbformat": 4,
 "nbformat_minor": 5
}
